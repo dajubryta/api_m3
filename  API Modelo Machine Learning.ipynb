{
 "cells": [
  {
   "cell_type": "code",
   "execution_count": 57,
   "id": "3fe3d6af-053a-41cb-a240-3b6d1a7e089f",
   "metadata": {},
   "outputs": [
    {
     "name": "stderr",
     "output_type": "stream",
     "text": [
      "/tmp/ipykernel_2937/3942705368.py:2: DtypeWarning: Columns (0) have mixed types. Specify dtype option on import or set low_memory=False.\n",
      "  data = pd.read_csv('angelsdata.csv')\n"
     ]
    }
   ],
   "source": [
    "# Paso 1: Cargar los datos\n",
    "data = pd.read_csv('angelsdata.csv')\n"
   ]
  },
  {
   "cell_type": "code",
   "execution_count": 62,
   "id": "a420b1aa-ea0b-481c-b82c-8ca7df6cb9cb",
   "metadata": {},
   "outputs": [
    {
     "name": "stdout",
     "output_type": "stream",
     "text": [
      "Index(['DR_NO', 'Date Rptd', 'DATE OCC', 'TIME OCC', 'AREA', 'AREA NAME',\n",
      "       'Rpt Dist No', 'Part 1-2', 'Crm Cd', 'Crm Cd Desc', 'Mocodes',\n",
      "       'Vict Age', 'Vict Sex', 'Vict Descent', 'Premis Cd', 'Premis Desc',\n",
      "       'Weapon Used Cd', 'Weapon Desc', 'Status', 'Status Desc', 'Crm Cd 1',\n",
      "       'Crm Cd 2', 'Crm Cd 3', 'Crm Cd 4', 'LOCATION', 'Cross Street', 'LAT',\n",
      "       'LON'],\n",
      "      dtype='object')\n"
     ]
    }
   ],
   "source": [
    "# Cargar los datos\n",
    "data = pd.read_csv('angelsdata.csv', low_memory=False)\n",
    "\n",
    "# Imprimir los nombres de las columnas\n",
    "print(data.columns)\n"
   ]
  },
  {
   "cell_type": "code",
   "execution_count": 3,
   "id": "4bd7c0fd-8a98-426f-ae6a-e022df7e4bd9",
   "metadata": {},
   "outputs": [
    {
     "name": "stderr",
     "output_type": "stream",
     "text": [
      "/tmp/ipykernel_5323/223245640.py:15: UserWarning: Could not infer format, so each element will be parsed individually, falling back to `dateutil`. To ensure parsing is consistent and as-expected, please specify a format.\n",
      "  data['DATE OCC'] = pd.to_datetime(data['DATE OCC'], errors='coerce')\n"
     ]
    },
    {
     "name": "stdout",
     "output_type": "stream",
     "text": [
      "Accuracy: 1.0\n"
     ]
    },
    {
     "data": {
      "text/plain": [
       "['crime_prediction_model.pkl']"
      ]
     },
     "execution_count": 3,
     "metadata": {},
     "output_type": "execute_result"
    }
   ],
   "source": [
    "import pandas as pd\n",
    "from sklearn.model_selection import train_test_split\n",
    "from sklearn.ensemble import RandomForestClassifier\n",
    "from sklearn.metrics import accuracy_score\n",
    "import joblib\n",
    "from sklearn.preprocessing import LabelEncoder\n",
    "\n",
    "# Cargar los datos\n",
    "data = pd.read_csv('angelsdata.csv', low_memory=False)\n",
    "\n",
    "# Eliminar columnas innecesarias\n",
    "data = data.drop(columns=['DR_NO', 'AREA NAME', 'Rpt Dist No', 'Mocodes', 'Cross Street', 'LAT', 'LON'])\n",
    "\n",
    "# Convertir la columna de fecha a componentes numéricos\n",
    "data['DATE OCC'] = pd.to_datetime(data['DATE OCC'], errors='coerce')\n",
    "data['YEAR'] = data['DATE OCC'].dt.year\n",
    "data['MONTH'] = data['DATE OCC'].dt.month\n",
    "data['DAY'] = data['DATE OCC'].dt.day\n",
    "data['HOUR'] = data['DATE OCC'].dt.hour\n",
    "data = data.drop(columns=['DATE OCC'])\n",
    "\n",
    "# Seleccionar columnas con pocas categorías para aplicar get_dummies\n",
    "categorical_columns = ['Status', 'Vict Sex', 'Vict Descent', 'Premis Desc']\n",
    "data = pd.get_dummies(data, columns=categorical_columns, drop_first=True)\n",
    "\n",
    "# Codificar otras columnas categóricas con LabelEncoder\n",
    "label_encodable_columns = ['Weapon Desc']  # Ajusta según tus necesidades\n",
    "for col in label_encodable_columns:\n",
    "    data[col] = LabelEncoder().fit_transform(data[col])\n",
    "\n",
    "# Verificar y convertir todas las columnas a numéricas\n",
    "for col in data.columns:\n",
    "    data[col] = pd.to_numeric(data[col], errors='coerce')\n",
    "\n",
    "# Rellenar valores NaN que puedan haber resultado de las conversiones\n",
    "data = data.fillna(0)\n",
    "\n",
    "# Dividir los datos en características (X) y etiquetas (y)\n",
    "X = data.drop(columns=['Crm Cd Desc'])  # Asegúrate de que 'Crm Cd Desc' es la etiqueta que quieres predecir\n",
    "y = data['Crm Cd Desc']\n",
    "\n",
    "# Dividir los datos en conjuntos de entrenamiento y prueba\n",
    "X_train, X_test, y_train, y_test = train_test_split(X, y, test_size=0.2, random_state=42)\n",
    "\n",
    "# Entrenar el modelo\n",
    "model = RandomForestClassifier()\n",
    "model.fit(X_train, y_train)\n",
    "\n",
    "# Evaluar el modelo\n",
    "y_pred = model.predict(X_test)\n",
    "accuracy = accuracy_score(y_test, y_pred)\n",
    "print(\"Accuracy:\", accuracy)\n",
    "\n",
    "# Guardar el modelo entrenado\n",
    "joblib.dump(model, 'crime_prediction_model.pkl')\n",
    "\n"
   ]
  },
  {
   "cell_type": "code",
   "execution_count": 4,
   "id": "c69562d7-a1c2-42fa-9b38-61d8a62649a4",
   "metadata": {},
   "outputs": [],
   "source": [
    "from fastapi import FastAPI, HTTPException\n",
    "from pydantic import BaseModel\n",
    "import joblib\n",
    "import pandas as pd\n",
    "\n",
    "# Cargar el modelo entrenado\n",
    "model = joblib.load('crime_prediction_model.pkl')\n",
    "\n",
    "# Definir las columnas esperadas, tal como las configuramos en el taller\n",
    "model_columns = ['DR_NO', 'AREA NAME', 'Rpt Dist No', 'Mocodes', 'Cross Street', 'LAT', 'LON', \n",
    "                 'YEAR', 'MONTH', 'DAY', 'HOUR', \n",
    "                 'Vict Sex_M', 'Vict Descent_H', 'Premis Desc_STREET', \n",
    "                 'Weapon Desc_HANDGUN', 'Status_IC']\n",
    "\n",
    "class CrimePredictionInput(BaseModel):\n",
    "    DATE_OCC: str\n",
    "    AREA: int\n",
    "    Crm_Cd: int\n",
    "    Vict_Age: int\n",
    "    Vict_Sex: str\n",
    "    Vict_Descent: str\n",
    "    Premis_Desc: str\n",
    "    Weapon_Desc: str\n",
    "    Status: str\n",
    "\n",
    "class CrimePredictionOutput(BaseModel):\n",
    "    PRIMARY_DESCRIPTION: str\n",
    "\n",
    "app = FastAPI()\n",
    "\n",
    "@app.post('/predict/', response_model=CrimePredictionOutput)\n",
    "async def predict_crime(data: CrimePredictionInput):\n",
    "    try:\n",
    "        # Convertir los datos de entrada en un DataFrame\n",
    "        input_data = pd.DataFrame([data.dict()])\n",
    "\n",
    "        # Preprocesar los datos\n",
    "        input_data['DATE_OCC'] = pd.to_datetime(input_data['DATE_OCC'], errors='coerce')\n",
    "        input_data['YEAR'] = input_data['DATE_OCC'].dt.year\n",
    "        input_data['MONTH'] = input_data['DATE_OCC'].dt.month\n",
    "        input_data['DAY'] = input_data['DATE_OCC'].dt.day\n",
    "        input_data['HOUR'] = input_data['DATE_OCC'].dt.hour\n",
    "        input_data = input_data.drop(columns=['DATE_OCC'])\n",
    "\n",
    "        # Codificar variables categóricas, igual que en el taller\n",
    "        categorical_columns = ['Vict_Sex', 'Vict_Descent', 'Premis_Desc', 'Status']\n",
    "        input_data = pd.get_dummies(input_data, columns=categorical_columns, drop_first=True)\n",
    "\n",
    "        # Asegurar que todas las columnas necesarias están presentes\n",
    "        for col in model_columns:\n",
    "            if col not in input_data.columns:\n",
    "                input_data[col] = 0\n",
    "\n",
    "        # Ordenar las columnas para que coincidan con el modelo\n",
    "        input_data = input_data[model_columns]\n",
    "\n",
    "        # Hacer la predicción\n",
    "        prediction = model.predict(input_data)\n",
    "        primary_description = prediction[0]\n",
    "\n",
    "        return CrimePredictionOutput(PRIMARY_DESCRIPTION=primary_description)\n",
    "\n",
    "    except Exception as e:\n",
    "        print(f\"Error: {e}\")\n",
    "        raise HTTPException(status_code=500, detail=\"Internal Server Error\")\n"
   ]
  },
  {
   "cell_type": "code",
   "execution_count": null,
   "id": "78adc66d-95b5-48f4-a764-8e99b74d076a",
   "metadata": {},
   "outputs": [],
   "source": []
  }
 ],
 "metadata": {
  "kernelspec": {
   "display_name": "Python 3 (ipykernel)",
   "language": "python",
   "name": "python3"
  },
  "language_info": {
   "codemirror_mode": {
    "name": "ipython",
    "version": 3
   },
   "file_extension": ".py",
   "mimetype": "text/x-python",
   "name": "python",
   "nbconvert_exporter": "python",
   "pygments_lexer": "ipython3",
   "version": "3.12.3"
  }
 },
 "nbformat": 4,
 "nbformat_minor": 5
}
